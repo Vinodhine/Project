{
 "cells": [
  {
   "cell_type": "code",
   "execution_count": 1,
   "metadata": {
    "collapsed": false
   },
   "outputs": [],
   "source": [
    "import pickle\n",
    "\n",
    "lst_All_News = []\n",
    "\n",
    "with open('Sample_News.csv','r') as infile:\n",
    "    content = infile.read()\n",
    "    sentences = content.splitlines()\n",
    "    for i in sentences:\n",
    "        lst_All_News.append(i)\n",
    "        #print ('\\n\\n')\n",
    "\n",
    "with open('Sample_Reddit_News.txt', 'w') as fp:\n",
    "    for item in lst_All_News:\n",
    "        fp.write(\"{}\\n\".format(item))\n",
    "   "
   ]
  },
  {
   "cell_type": "code",
   "execution_count": null,
   "metadata": {
    "collapsed": false
   },
   "outputs": [
    {
     "name": "stdout",
     "output_type": "stream",
     "text": [
      "NLTK Downloader\n",
      "---------------------------------------------------------------------------\n",
      "    d) Download   l) List    u) Update   c) Config   h) Help   q) Quit\n",
      "---------------------------------------------------------------------------\n",
      "Downloader> \n",
      "\n",
      "---------------------------------------------------------------------------\n",
      "    d) Download   l) List    u) Update   c) Config   h) Help   q) Quit\n",
      "---------------------------------------------------------------------------\n",
      "Downloader> \n",
      "\n",
      "---------------------------------------------------------------------------\n",
      "    d) Download   l) List    u) Update   c) Config   h) Help   q) Quit\n",
      "---------------------------------------------------------------------------\n",
      "Downloader> u\n",
      "Error connecting to server: [Errno 11001] getaddrinfo failed\n",
      "\n",
      "---------------------------------------------------------------------------\n",
      "    d) Download   l) List    u) Update   c) Config   h) Help   q) Quit\n",
      "---------------------------------------------------------------------------\n"
     ]
    }
   ],
   "source": [
    "import nltk \n",
    "nltk.download()\n",
    "from nltk.stem import WordNetLemmatizer\n",
    "stopwords = nltk.corpus.stopwords.words('english')"
   ]
  },
  {
   "cell_type": "code",
   "execution_count": null,
   "metadata": {
    "collapsed": false
   },
   "outputs": [],
   "source": [
    "print (stopwords)"
   ]
  },
  {
   "cell_type": "code",
   "execution_count": null,
   "metadata": {
    "collapsed": false
   },
   "outputs": [],
   "source": [
    "s = 'b  georgia  downs two russian warplanes  as countries move to brink of war' \n",
    "lst_wrds = nltk.word_tokenize(s)\n",
    "print(lst_wrds)"
   ]
  },
  {
   "cell_type": "code",
   "execution_count": null,
   "metadata": {
    "collapsed": false
   },
   "outputs": [],
   "source": [
    "import string\n",
    "\n",
    "with open('Sample_Reddit_News.txt','r') as infile:\n",
    "    content = infile.read()\n",
    "    sentences = content.splitlines()\n",
    "\n",
    "date_news_lst = []\n",
    "\n",
    "p = string.punctuation\n",
    "d = string.digits\n",
    "table_p = str.maketrans(p, len(p) * \" \")\n",
    "table_d = str.maketrans(d, len(d) * \" \")\n",
    "\n",
    "print(p)\n",
    "print(d)\n",
    "\n",
    "for i in range(len(sentences)):\n",
    "    try:\n",
    "        if sentences[i][0].isdigit():\n",
    "            s = sentences[i].split(',')[1].strip()\n",
    "            s = s.replace('\\t','')\n",
    "            s = s.translate(table_p)\n",
    "            s = s.translate(table_d)\n",
    "            #print (sentences[i].split(',')[0])\n",
    "            #print (s + '\\n')\n",
    "            \n",
    "            s = nltk.word_tokenize(s)\n",
    "            list_words = []\n",
    "            list_words.append(s for s not in stopwords and len(s)>2)\n",
    "            print(type(s))\n",
    "            sentences[i] = sentences[i].split(',')[0] + '||||' + s.lower()\n",
    "            date_news_lst.append(sentences[i])\n",
    "    except:\n",
    "        continue\n",
    "\n",
    "\n",
    "print (len(date_news))\n",
    "#print (date_news)\n",
    "\n",
    "date_news= dict()\n",
    "for sen in date_news_lst:\n",
    "    date = sen.split('||||')[0]\n",
    "    news = sen.split('||||')[1]\n",
    "    if date not in date_news:\n",
    "        date_news[date] = news\n",
    "    else:\n",
    "        date_news[date] += ' ' + news    \n",
    "\n",
    "        \n",
    "for k,v in date_news.items():\n",
    "    print (k,v)\n",
    "    print ('\\n')\n",
    "    \n"
   ]
  },
  {
   "cell_type": "code",
   "execution_count": null,
   "metadata": {
    "collapsed": false
   },
   "outputs": [],
   "source": [
    "trial_lst = ['8/8/2008|||| b  georgia  downs two russian warplanes  as countries move to brink of war   ', \n",
    "             '8/8/2008||||b breaking  musharraf to be impeached ', \n",
    "             '8/9/2008||||b russia today  columns of troops roll into south ossetia  footage from fighting  youtube  ', \n",
    "             '8/8/2008||||b russian tanks are moving towards the capital of south ossetia which has reportedly been completely destroyed by georgian artillery fire ', '8/8/2008|||| b  afghan children raped with  impunity  un official says   this is sick a three year old was raped and they do nothing   ', '8/8/2008||||b     russian tanks have entered south ossetia whilst georgia shoots down two russian jets ', \n",
    "             '8/10/2008|||| b  breaking  georgia invades south ossetia russia warned it would intervene on so s side   ']\n",
    "\n",
    "#set(trial_lst_dict)\n",
    "date_news = dict()\n",
    "for sen in trial_lst:\n",
    "    date = sen.split('||||')[0]\n",
    "    news = sen.split('||||')[1]\n",
    "    if date not in date_news:\n",
    "        date_news[date] = news\n",
    "    else:\n",
    "        date_news[date] += ' ' + news\n",
    "\n",
    "  \n",
    "        \n",
    "print (date_news)\n",
    "\n",
    "\n",
    "\n"
   ]
  },
  {
   "cell_type": "code",
   "execution_count": null,
   "metadata": {
    "collapsed": true
   },
   "outputs": [],
   "source": []
  }
 ],
 "metadata": {
  "anaconda-cloud": {},
  "kernelspec": {
   "display_name": "Python [conda env:py35]",
   "language": "python",
   "name": "conda-env-py35-py"
  },
  "language_info": {
   "codemirror_mode": {
    "name": "ipython",
    "version": 3
   },
   "file_extension": ".py",
   "mimetype": "text/x-python",
   "name": "python",
   "nbconvert_exporter": "python",
   "pygments_lexer": "ipython3",
   "version": "3.5.2"
  }
 },
 "nbformat": 4,
 "nbformat_minor": 1
}
