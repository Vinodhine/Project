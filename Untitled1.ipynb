{
 "cells": [
  {
   "cell_type": "code",
   "execution_count": 4,
   "metadata": {
    "collapsed": false
   },
   "outputs": [
    {
     "data": {
      "text/plain": [
       "u'aaa'"
      ]
     },
     "execution_count": 4,
     "metadata": {},
     "output_type": "execute_result"
    }
   ],
   "source": [
    "from nltk.stem.porter import PorterStemmer\n",
    "porter_stemmer = PorterStemmer()\n"
   ]
  },
  {
   "cell_type": "code",
   "execution_count": 25,
   "metadata": {
    "collapsed": false
   },
   "outputs": [
    {
     "name": "stdout",
     "output_type": "stream",
     "text": [
      "<type 'list'>\n",
      "['abscond', u'abscond', u'abscond', 'aafia', 'aali', 'aam', 'aamer']\n",
      "abscond abscond abscond aafia aali aam aamer\n",
      "['aamir', 'aap', 'aaron', 'aarp', 'aba', 'abaao', 'aban', 'abandon']\n",
      "aamir aap aaron aarp aba abaao aban abandon\n",
      "[u'abandon', u'abandon', u'abandon', u'abat', 'abattoir', u'abattoir', 'abay', 'abaya', 'abba', u'abba', 'abbasi', u'abb', 'abbey', 'abbot', 'abbott', 'abdelghani', 'abdelhamid']\n",
      "abandon abandon abandon abat abattoir abattoir abay abaya abba abba abbasi abb abbey abbot abbott abdelghani abdelhamid\n"
     ]
    }
   ],
   "source": [
    "line = ['abscond absconding absconded aafia aali aam aamer',' aamir aap aaron aarp aba abaao aban abandon',' abandoned abandoning  abandons abating abattoir abattoirs abay abaya abba abbas abbasi abbe abbey abbot abbott abdelghani abdelhamid']\n",
    "print type(line)\n",
    "for sen in line:\n",
    "    t = []\n",
    "    for word in sen.split():\n",
    "        #print word\n",
    "        t.append(porter_stemmer.stem(word))\n",
    "    print t\n",
    "    s = ' '.join(t)\n",
    "    print s\n",
    "        "
   ]
  },
  {
   "cell_type": "code",
   "execution_count": null,
   "metadata": {
    "collapsed": true
   },
   "outputs": [],
   "source": []
  }
 ],
 "metadata": {
  "kernelspec": {
   "display_name": "Python [default]",
   "language": "python",
   "name": "python2"
  },
  "language_info": {
   "codemirror_mode": {
    "name": "ipython",
    "version": 2
   },
   "file_extension": ".py",
   "mimetype": "text/x-python",
   "name": "python",
   "nbconvert_exporter": "python",
   "pygments_lexer": "ipython2",
   "version": "2.7.12"
  }
 },
 "nbformat": 4,
 "nbformat_minor": 1
}
